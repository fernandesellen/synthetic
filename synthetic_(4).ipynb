{
 "cells": [
  {
   "cell_type": "code",
   "execution_count": null,
   "id": "bccb6bda-304b-4683-8803-565867eafa35",
   "metadata": {
    "colab": {
     "base_uri": "https://localhost:8080/"
    },
    "id": "bccb6bda-304b-4683-8803-565867eafa35",
    "outputId": "aba71d8b-e9a4-46b2-ba1e-bf4cf23ceb13"
   },
   "outputs": [],
   "source": [
    "! pip install verde harmonica pandas matplotlib"
   ]
  },
  {
   "cell_type": "code",
   "execution_count": null,
   "id": "5262d461-43fb-4d8e-aa24-87c17e941a2b",
   "metadata": {
    "id": "5262d461-43fb-4d8e-aa24-87c17e941a2b"
   },
   "outputs": [],
   "source": [
    "import numpy as np\n",
    "import matplotlib.pyplot as plt\n",
    "import harmonica as hm\n",
    "import verde as vd\n",
    "import pandas as pd\n",
    "import warnings"
   ]
  },
  {
   "cell_type": "code",
   "execution_count": null,
   "id": "573f21fd-9361-4088-a4ca-b2f179e96eba",
   "metadata": {
    "id": "573f21fd-9361-4088-a4ca-b2f179e96eba"
   },
   "outputs": [],
   "source": [
    "warnings.filterwarnings('ignore')"
   ]
  },
  {
   "cell_type": "code",
   "execution_count": null,
   "id": "c367b29b-3641-4872-b7ee-b4f9192f0d3b",
   "metadata": {
    "colab": {
     "base_uri": "https://localhost:8080/",
     "height": 447
    },
    "id": "c367b29b-3641-4872-b7ee-b4f9192f0d3b",
    "outputId": "7df4d64d-669c-4241-8593-b293fa62cd06"
   },
   "outputs": [],
   "source": [
    "region = [0, 100e3, 0, 90e3]\n",
    "coordinates = vd.scatter_points(region, size=1000, extra_coords=1000)\n",
    "\n",
    "plt.plot(coordinates[0], coordinates[1], \".k\")"
   ]
  },
  {
   "cell_type": "code",
   "execution_count": null,
   "id": "6c139f18-ab7f-4d13-84d6-60777a8a4ec8",
   "metadata": {
    "colab": {
     "base_uri": "https://localhost:8080/"
    },
    "id": "6c139f18-ab7f-4d13-84d6-60777a8a4ec8",
    "outputId": "d5c018a1-2a07-46b3-ff9a-1c5ec358b222"
   },
   "outputs": [],
   "source": [
    "len(coordinates[0])"
   ]
  },
  {
   "cell_type": "code",
   "execution_count": null,
   "id": "07be8069-a6d4-4594-9227-48b94d77ab03",
   "metadata": {
    "id": "07be8069-a6d4-4594-9227-48b94d77ab03"
   },
   "outputs": [],
   "source": [
    "prismas = [\n",
    "    [10e3, 15e3, 20e3, 35e3, -1e3,  0],\n",
    "    [60e3, 80e3, 50e3, 70e3, -2e3,  -0.5e3],\n",
    "]\n",
    "densidades = [500, -300]\n",
    "gz = hm.prism_gravity(coordinates, prismas, densidades, field=\"g_z\")"
   ]
  },
  {
   "cell_type": "code",
   "execution_count": null,
   "id": "40597c25-3cf4-4507-8d9a-7374522ff9e7",
   "metadata": {
    "colab": {
     "base_uri": "https://localhost:8080/",
     "height": 447
    },
    "id": "40597c25-3cf4-4507-8d9a-7374522ff9e7",
    "outputId": "e8fae836-251f-4de4-a5a2-6638dcbf9e57"
   },
   "outputs": [],
   "source": [
    "plt.scatter(coordinates[0], coordinates[1], s=5, c=gz)\n",
    "plt.colorbar()"
   ]
  },
  {
   "cell_type": "code",
   "execution_count": null,
   "id": "e13772b7-329d-42bf-a828-2ac2bbe3a5f8",
   "metadata": {
    "colab": {
     "base_uri": "https://localhost:8080/",
     "height": 75
    },
    "id": "e13772b7-329d-42bf-a828-2ac2bbe3a5f8",
    "outputId": "36cd875c-d9b4-4e65-e597-4b8d64fe93d1"
   },
   "outputs": [],
   "source": [
    "# Fontes equivalentes\n",
    "fontes = hm.EquivalentSourcesGB(damping=1,depth=1e3)\n",
    "altura = np.zeros(1000)\n",
    "fontes.fit([coordinates[0],coordinates[1],altura],data=gz) # o que faz essa funcao .fit?"
   ]
  },
  {
   "cell_type": "code",
   "execution_count": null,
   "id": "a84688df-a4fa-4651-8902-650a309c63c3",
   "metadata": {
    "colab": {
     "base_uri": "https://localhost:8080/",
     "height": 466
    },
    "id": "a84688df-a4fa-4651-8902-650a309c63c3",
    "outputId": "61774e43-aaf6-4722-ce43-e4375fcf10cb"
   },
   "outputs": [],
   "source": [
    "grid_coords_eq = vd.grid_coordinates(region,spacing=1e3,extra_coords=1000)\n",
    "gz_grid_eq = fontes.grid(grid_coords_eq,data_names=\"g_z\")\n",
    "gz_grid_eq.g_z.plot()"
   ]
  },
  {
   "cell_type": "code",
   "execution_count": null,
   "id": "d43d0ac8-cc60-4b78-83de-597cc967f303",
   "metadata": {
    "colab": {
     "base_uri": "https://localhost:8080/",
     "height": 470
    },
    "id": "d43d0ac8-cc60-4b78-83de-597cc967f303",
    "outputId": "fa6fc096-bab9-4af7-84fd-c03e314b573c"
   },
   "outputs": [],
   "source": [
    "# Malha regular\n",
    "grid_coords = vd.grid_coordinates(region, spacing=1e3, extra_coords=1000)\n",
    "gz_grid = hm.prism_gravity(grid_coords, prismas, densidades, field=\"g_z\")\n",
    "grid_true = vd.make_xarray_grid(grid_coords, gz_grid, data_names=\"g_z\", extra_coords_names=\"upward\")\n",
    "grid_true.g_z.plot()\n"
   ]
  },
  {
   "cell_type": "code",
   "execution_count": null,
   "id": "313732f6-ee64-4eef-b785-4aa3c1bb3a67",
   "metadata": {
    "colab": {
     "base_uri": "https://localhost:8080/",
     "height": 466
    },
    "id": "313732f6-ee64-4eef-b785-4aa3c1bb3a67",
    "outputId": "10715119-ff58-4e2b-c899-26a849d86b9a"
   },
   "outputs": [],
   "source": [
    "##################################### Diferença\n",
    "residuo = grid_true - gz_grid_eq\n",
    "residuo.g_z.plot()"
   ]
  },
  {
   "cell_type": "code",
   "execution_count": null,
   "id": "8923d691-949e-4a13-9432-3151f21df19e",
   "metadata": {
    "colab": {
     "base_uri": "https://localhost:8080/",
     "height": 424
    },
    "id": "8923d691-949e-4a13-9432-3151f21df19e",
    "outputId": "e6cd21ae-bf0a-4eb2-b89a-b1309f72f8f0"
   },
   "outputs": [],
   "source": [
    "residuo.g_z"
   ]
  },
  {
   "cell_type": "code",
   "execution_count": null,
   "id": "955bb925-1fb5-4e10-b796-c40dc423ddda",
   "metadata": {
    "colab": {
     "base_uri": "https://localhost:8080/",
     "height": 441
    },
    "id": "955bb925-1fb5-4e10-b796-c40dc423ddda",
    "outputId": "d6a0962c-9b1c-47f8-cd15-e3c6fbc50184"
   },
   "outputs": [],
   "source": [
    "gz_grid_eq.g_z"
   ]
  },
  {
   "cell_type": "code",
   "execution_count": null,
   "id": "sv4ts_UJcB2Z",
   "metadata": {
    "colab": {
     "base_uri": "https://localhost:8080/"
    },
    "id": "sv4ts_UJcB2Z",
    "outputId": "4dc013c1-855c-43a9-a403-98d52e8f9941"
   },
   "outputs": [],
   "source": [
    "rms = np.sum([res**2 for res in residuo.g_z])/residuo.g_z.size\n",
    "##### R_2 verdadeiro\n",
    "media_grid_eq = np.sum(gz_grid_eq.g_z.values)\n",
    "R_2_true = 1 - (np.sum([res**2 for res in residuo.g_z])/np.sum([( gz - media_grid_eq )**2 for gz in gz_grid_eq.g_z]))\n",
    "R_2_true"
   ]
  },
  {
   "cell_type": "code",
   "execution_count": null,
   "id": "ec342453-487d-446e-8ee0-c56b94451402",
   "metadata": {
    "id": "ec342453-487d-446e-8ee0-c56b94451402"
   },
   "outputs": [],
   "source": [
    "# Using cross-validation to evaluate how well\n",
    "# these equivalent sources can accurately predict the values of the field\n",
    "R_2_kfold = (\n",
    "    vd.cross_val_score(\n",
    "        fontes,\n",
    "        coordinates,\n",
    "        gz,\n",
    "    )\n",
    ")\n"
   ]
  },
  {
   "cell_type": "code",
   "execution_count": null,
   "id": "SGLzokB9iGYl",
   "metadata": {
    "colab": {
     "base_uri": "https://localhost:8080/"
    },
    "id": "SGLzokB9iGYl",
    "outputId": "05eccbcb-dcb3-4629-a96a-579eac58c956"
   },
   "outputs": [],
   "source": [
    "print(f\"min: {np.min(R_2_kfold)}\")\n",
    "print(f\"max: {np.max(R_2_kfold)}\")\n",
    "print(f\"mean: {np.mean(R_2_kfold)}\")"
   ]
  },
  {
   "cell_type": "code",
   "execution_count": null,
   "id": "sA8y8teHhJlm",
   "metadata": {
    "id": "sA8y8teHhJlm"
   },
   "outputs": [],
   "source": [
    "# Blocking\n",
    "\n",
    "R_2_block = (\n",
    "    vd.cross_val_score(\n",
    "        fontes,\n",
    "        coordinates,\n",
    "        gz,\n",
    "        cv=vd.BlockKFold(spacing=500, n_splits=2, shuffle=True, random_state=123),\n",
    "    )\n",
    ")\n"
   ]
  },
  {
   "cell_type": "code",
   "execution_count": null,
   "id": "28da231a-3f85-43ab-b0ad-4e91f3663940",
   "metadata": {
    "colab": {
     "base_uri": "https://localhost:8080/"
    },
    "id": "28da231a-3f85-43ab-b0ad-4e91f3663940",
    "outputId": "aa80980f-b022-4188-9dc4-eda077448a94"
   },
   "outputs": [],
   "source": [
    "print(f\"min: {np.min(R_2_block)}\")\n",
    "print(f\"max: {np.max(R_2_block)}\")\n",
    "print(f\"mean: {np.mean(R_2_block)}\")"
   ]
  },
  {
   "cell_type": "code",
   "execution_count": null,
   "id": "EiQX8HHz4bc_",
   "metadata": {
    "id": "EiQX8HHz4bc_"
   },
   "outputs": [],
   "source": [
    "#Data are first grouped into rectangular blocks of size given by the spacing argument.\n",
    "# The blocks are then split into testing and training sets iteratively along k folds of the data\n",
    "#(k is given by n_splits).\n",
    "R_2_block = []\n",
    "n = np.arange(2,51)\n",
    "for n_splits in n:\n",
    "    R_2_block.append(np.mean(\n",
    "        vd.cross_val_score(\n",
    "            fontes,\n",
    "            coordinates,\n",
    "            gz,\n",
    "            cv=vd.BlockKFold(spacing=500, n_splits=n_splits, shuffle=True, random_state=123),\n",
    "        )\n",
    "    ))\n",
    "\n"
   ]
  },
  {
   "cell_type": "code",
   "execution_count": null,
   "id": "u8ded_UV5Qwf",
   "metadata": {
    "colab": {
     "base_uri": "https://localhost:8080/",
     "height": 508
    },
    "id": "u8ded_UV5Qwf",
    "outputId": "e81a4ce7-6723-4181-c05e-29e1af2b4d51"
   },
   "outputs": [],
   "source": [
    "plt.plot(n,R_2_block)\n",
    "plt.legend()\n",
    "plt.xlabel(\"n_splits\")\n",
    "plt.ylabel(\"R_2\")"
   ]
  },
  {
   "cell_type": "code",
   "execution_count": null,
   "id": "3WDa0Mm87_mG",
   "metadata": {
    "id": "3WDa0Mm87_mG"
   },
   "outputs": [],
   "source": [
    "R_2_block = []\n",
    "block = np.arange(500,10950,950)\n",
    "for spacing in block:\n",
    "    R_2_block.append(np.mean(\n",
    "        vd.cross_val_score(f\n",
    "            fontes,\n",
    "            coordinates,\n",
    "            gz,\n",
    "            cv=vd.BlockKFold(spacing=spacing, n_splits=4, shuffle=True, random_state=123),\n",
    "        )\n",
    "    ))\n",
    "\n"
   ]
  },
  {
   "cell_type": "code",
   "execution_count": null,
   "id": "j3kAqil48Rd_",
   "metadata": {
    "colab": {
     "base_uri": "https://localhost:8080/",
     "height": 504
    },
    "id": "j3kAqil48Rd_",
    "outputId": "df98eb3a-45d4-47f8-bee9-bc39a5f1a2f7"
   },
   "outputs": [],
   "source": [
    "plt.plot(block,R_2_block)\n",
    "plt.legend()\n",
    "plt.xlabel(\"Tamanho do bloco\")\n",
    "plt.ylabel(\"R_2\")"
   ]
  },
  {
   "cell_type": "code",
   "execution_count": null,
   "id": "YsRJJMjB-k48",
   "metadata": {
    "colab": {
     "base_uri": "https://localhost:8080/",
     "height": 504
    },
    "id": "YsRJJMjB-k48",
    "outputId": "1bb327e9-fcce-4be1-f42d-907899bf1550"
   },
   "outputs": [],
   "source": [
    "plt.plot(block,R_2_block)\n",
    "plt.legend()\n",
    "plt.xlabel(\"Tamanho do bloco\")\n",
    "plt.ylabel(\"R_2\")\n",
    "plt.xlim(0,4000)"
   ]
  },
  {
   "cell_type": "code",
   "execution_count": null,
   "id": "3cb5d109-d025-4c9d-bb9d-ffb2e50f574a",
   "metadata": {
    "id": "3cb5d109-d025-4c9d-bb9d-ffb2e50f574a"
   },
   "outputs": [],
   "source": [
    "##################################### Colocando blocos nas fontes equivalentes\n",
    "R_2 = []\n",
    "sources = []\n",
    "\n",
    "block = [block for block in range(50,102050,2000)]\n",
    "for block_size in block:\n",
    "    fontes_block = hm.EquivalentSourcesGB(damping=1,depth=1e3,block_size=block_size, depth_type=\"constant\")\n",
    "    # These sources were set at a constant depth of 1km bellow the zeroth height and with a damping equal to 1.\n",
    "\n",
    "    fontes_block.fit([coordinates[0],coordinates[1],altura],data=gz)\n",
    "    # During this step the point sources are created through the block averaging process.\n",
    "\n",
    "    # Using cross-validation to evaluate how well\n",
    "    # these equivalent sources can accurately predict the values of the field\n",
    "    score = np.mean(\n",
    "        vd.cross_val_score(\n",
    "            fontes_block,\n",
    "            coordinates,\n",
    "            gz,\n",
    "        )\n",
    "    )\n",
    "    R_2.append(score)\n",
    "    sources.append(fontes_block.points_[0].size)\n"
   ]
  },
  {
   "cell_type": "code",
   "execution_count": null,
   "id": "cacfc6ac-1496-4ac5-a1e8-c79f704d1701",
   "metadata": {
    "id": "cacfc6ac-1496-4ac5-a1e8-c79f704d1701",
    "outputId": "6043c8e9-de4e-4588-87d5-3655a065c988"
   },
   "outputs": [],
   "source": [
    "plt.plot(block,R_2)\n",
    "plt.legend()\n",
    "plt.xlabel('Tamanho do bloco')\n",
    "plt.ylabel('Erro')"
   ]
  },
  {
   "cell_type": "code",
   "execution_count": null,
   "id": "47e03fae-bca2-4813-ad03-735079526af3",
   "metadata": {
    "id": "47e03fae-bca2-4813-ad03-735079526af3",
    "outputId": "dcae23e1-82b0-4e75-ac9a-f038a8aea470"
   },
   "outputs": [],
   "source": [
    "plt.plot(block,sources)\n",
    "plt.legend()\n",
    "plt.xlabel('Tamanho do bloco')\n",
    "plt.ylabel('Numero de fontes')"
   ]
  },
  {
   "cell_type": "code",
   "execution_count": null,
   "id": "e89b7109-d7da-4370-849d-b3de20c74c85",
   "metadata": {
    "id": "e89b7109-d7da-4370-849d-b3de20c74c85",
    "outputId": "76866b60-dc76-4736-d20b-ace0142f4ad4"
   },
   "outputs": [],
   "source": [
    "plt.plot(sources,R_2)\n",
    "plt.legend()\n",
    "plt.xlabel('Numero de fontes')\n",
    "plt.ylabel('Erro')"
   ]
  },
  {
   "cell_type": "code",
   "execution_count": null,
   "id": "7063db66-3262-4359-a7ca-292740387bca",
   "metadata": {
    "id": "7063db66-3262-4359-a7ca-292740387bca",
    "outputId": "d2206cb1-cc02-4ca7-f073-78696aa587bf"
   },
   "outputs": [],
   "source": [
    "plt.plot(sources,R_2)\n",
    "plt.legend()\n",
    "plt.xlabel('Numero de fontes')\n",
    "plt.xlim(-3,150)\n",
    "plt.ylabel('Erro')"
   ]
  },
  {
   "cell_type": "code",
   "execution_count": null,
   "id": "532399d5-8df7-49c4-a6c9-2735b2e7b643",
   "metadata": {
    "id": "532399d5-8df7-49c4-a6c9-2735b2e7b643"
   },
   "outputs": [],
   "source": [
    "\n"
   ]
  }
 ],
 "metadata": {
  "colab": {
   "provenance": []
  },
  "kernelspec": {
   "display_name": "Python 3 (ipykernel)",
   "language": "python",
   "name": "python3"
  },
  "language_info": {
   "codemirror_mode": {
    "name": "ipython",
    "version": 3
   },
   "file_extension": ".py",
   "mimetype": "text/x-python",
   "name": "python",
   "nbconvert_exporter": "python",
   "pygments_lexer": "ipython3",
   "version": "3.10.14"
  }
 },
 "nbformat": 4,
 "nbformat_minor": 5
}
